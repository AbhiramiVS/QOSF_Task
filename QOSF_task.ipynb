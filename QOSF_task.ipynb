{
  "nbformat": 4,
  "nbformat_minor": 0,
  "metadata": {
    "colab": {
      "name": "QOSF_task.ipynb",
      "provenance": []
    },
    "kernelspec": {
      "name": "python3",
      "display_name": "Python 3"
    }
  },
  "cells": [
    {
      "cell_type": "markdown",
      "metadata": {
        "id": "JJbZuPmaXUUB",
        "colab_type": "text"
      },
      "source": [
        "Task - 2\n",
        "\n",
        "Question\n",
        "Implement a circuit that returns  |01⟩  and  |10⟩  with equal probability.\n",
        "\n",
        "Requirements :\n",
        "\n",
        "-The circuit should consist only of CNOTs, RXs and RYs.\n",
        "\n",
        "-Start from all parameters in parametric gates being equal to 0 or randomly chosen.\n",
        "\n",
        "-You should find the right set of parameters using gradient descent (you might use more advanced optimization methods if you like).\n",
        "\n",
        "-Simulations must be done with sampling - i.e. a limited number of measurements per iteration and noise.\n",
        "\n",
        "Compare the results for different numbers of measurements: 1, 10, 100, 1000.\n",
        "\n",
        "\n",
        "Solution\n",
        "\n",
        "Pennylane is used for solving the above problem. To compare noisy models and noise-less simulations, pennylane-qiskit plugin is used."
      ]
    },
    {
      "cell_type": "code",
      "metadata": {
        "id": "ZZjqIbUOjYaB",
        "colab_type": "code",
        "colab": {}
      },
      "source": [
        "#Importing required libraries\n",
        "import pennylane as qml\n",
        "import numpy as np\n",
        "import matplotlib.pyplot as plt\n",
        "\n",
        "from qiskit import *\n",
        "from qiskit.providers.aer.noise import NoiseModel"
      ],
      "execution_count": 1,
      "outputs": []
    },
    {
      "cell_type": "code",
      "metadata": {
        "id": "HLM8_f3X5xSr",
        "colab_type": "code",
        "colab": {
          "base_uri": "https://localhost:8080/",
          "height": 70
        },
        "outputId": "792983eb-808b-47dc-fbb7-7e34b3f9c524"
      },
      "source": [
        "#Importing noisy model\n",
        "from qiskit import IBMQ\n",
        "IBMQ.save_account('0466d93ef3100928b0083abd9f9a3385d0bced5af5d5729748d43795ad7b963767a30c15da92ad836c18ecbb179ab4a0093b64b1f957f98b5c48240898d3d70d')\n",
        "provider = IBMQ.load_account()\n",
        "backend = provider.get_backend('ibmq_vigo')\n",
        "noise_model = NoiseModel.from_backend(backend)"
      ],
      "execution_count": 2,
      "outputs": [
        {
          "output_type": "stream",
          "text": [
            "/usr/local/lib/python3.6/dist-packages/qiskit/providers/ibmq/ibmqfactory.py:192: UserWarning: Timestamps in IBMQ backend properties, jobs, and job results are all now in local time instead of UTC.\n",
            "  warnings.warn('Timestamps in IBMQ backend properties, jobs, and job results '\n"
          ],
          "name": "stderr"
        }
      ]
    },
    {
      "cell_type": "markdown",
      "metadata": {
        "id": "x2f6Pc6sYQBe",
        "colab_type": "text"
      },
      "source": [
        "The solution can be achieved by using H, X and CNOT gate. But we are asked to use only RX, RY and CNOT gates. So the below circuit"
      ]
    },
    {
      "cell_type": "code",
      "metadata": {
        "id": "yV6K0gYk6oGJ",
        "colab_type": "code",
        "colab": {}
      },
      "source": [
        "def circuit(theta):\n",
        "    qml.RY(theta[0], wires=0)\n",
        "    \n",
        "    qml.RY(theta[1], wires=1)\n",
        "    \n",
        "    qml.CNOT(wires=[0, 1])"
      ],
      "execution_count": 3,
      "outputs": []
    },
    {
      "cell_type": "markdown",
      "metadata": {
        "id": "6nKAWg2bYlht",
        "colab_type": "text"
      },
      "source": [
        "Initializing the circuit with noisy model"
      ]
    },
    {
      "cell_type": "code",
      "metadata": {
        "id": "nfZRPPANTYK3",
        "colab_type": "code",
        "colab": {}
      },
      "source": [
        "num_qubits = 2\n",
        "\n",
        "dev = qml.device(\"qiskit.aer\", wires=num_qubits, shots=1000, noise_model = noise_model, analytic=False)\n",
        "\n",
        "@qml.qnode(dev)\n",
        "def state(theta):\n",
        "    \n",
        "    circuit(theta)\n",
        "    \n",
        "    return qml.probs(wires=[0,1])"
      ],
      "execution_count": 4,
      "outputs": []
    },
    {
      "cell_type": "markdown",
      "metadata": {
        "id": "3VY5nnO0YqxT",
        "colab_type": "text"
      },
      "source": [
        "Initializing the circuit with noiseless simulation"
      ]
    },
    {
      "cell_type": "code",
      "metadata": {
        "id": "Ejzna2s8TkD-",
        "colab_type": "code",
        "colab": {}
      },
      "source": [
        "num_qubits = 2\n",
        "\n",
        "dev_noiseless = qml.device(\"qiskit.aer\", wires=num_qubits, shots=1000, analytic=False)\n",
        "\n",
        "@qml.qnode(dev_noiseless)\n",
        "def state_noiseless(theta):\n",
        "    \n",
        "    circuit(theta)\n",
        "    \n",
        "    return qml.probs(wires=[0,1])"
      ],
      "execution_count": 7,
      "outputs": []
    },
    {
      "cell_type": "markdown",
      "metadata": {
        "id": "Xl60sdTUY6ju",
        "colab_type": "text"
      },
      "source": [
        "qml.probs() will return a flat array or tensor containing the (marginal) probabilities of each quantum state in the lexigrophic ordering.\n",
        "\n",
        "We need the probability of |01> and |10> to be 0.5 and all other state probabilities should be 0.\n",
        "\n",
        "So the cost function is defined as below."
      ]
    },
    {
      "cell_type": "code",
      "metadata": {
        "id": "zzoUMltOTuSv",
        "colab_type": "code",
        "colab": {}
      },
      "source": [
        "def cost(theta):           #cost function for noisy simulation\n",
        "    p_00, p_01, p_10, p_11 = state(theta)\n",
        "    return ((p_00-0)**2 + (p_01-0.5)**2 + (p_10-0.5)**2 + (p_11-0)**2)"
      ],
      "execution_count": 8,
      "outputs": []
    },
    {
      "cell_type": "code",
      "metadata": {
        "id": "EU5HM8neUF0-",
        "colab_type": "code",
        "colab": {}
      },
      "source": [
        "def cost_noiseless(theta):          #cost function for noiseless simulation\n",
        "    p_00, p_01, p_10, p_11 = state_noiseless(theta)\n",
        "    return ((p_00-0)**2 + (p_01-0.5)**2 + (p_10-0.5)**2 + (p_11-0)**2)"
      ],
      "execution_count": 9,
      "outputs": []
    },
    {
      "cell_type": "markdown",
      "metadata": {
        "id": "c1m8sec-ZZc1",
        "colab_type": "text"
      },
      "source": [
        "Gradient Desent Optimizer library from Pennylane is used to find out the optimum parameters. Step size is 0.6"
      ]
    },
    {
      "cell_type": "code",
      "metadata": {
        "id": "A5e2fjhIUUPZ",
        "colab_type": "code",
        "colab": {
          "base_uri": "https://localhost:8080/",
          "height": 1000
        },
        "outputId": "60ced08d-9bc5-4978-b2a7-f2f08b6f3dca"
      },
      "source": [
        "prob = []\n",
        "all_costs = []\n",
        "\n",
        "for num_shots in [1, 10, 100, 1000]:\n",
        "    dev.shots = num_shots\n",
        "    initial_parameters = np.random.randn(2) #starting with random parameters\n",
        "    \n",
        "    steps = 40 # Number of steps of optimization\n",
        "    \n",
        "    parameters = initial_parameters.copy()\n",
        "    \n",
        "    optimizer = qml.GradientDescentOptimizer(stepsize=0.6) #The Gradient Descent Optimizer\n",
        "    \n",
        "    costs = []\n",
        "    \n",
        "    print('--------------------------------\\n')\n",
        "    print('For {0} shots\\n'.format(num_shots))\n",
        "    for i in range(steps):\n",
        "        costs.append(cost(parameters))\n",
        "        parameters = optimizer.step(cost, parameters)\n",
        "        \n",
        "        if (i%10 == 0):\n",
        "            print('The cost for {0} measurement sampling is {1}\\n'.format(num_shots, cost(parameters)))\n",
        "            print('The parameters are {0}\\n'.format(parameters))\n",
        "    all_costs.append(costs)\n",
        "\n",
        "    p = [0, 0, 0, 0]\n",
        "    p[0], p[1], p[2], p[3] = state(parameters)\n",
        "    print('Final probability of states is as follows: \\n')\n",
        "    print('\\n Probality of 00 is: {0} \\n Probality of 01 is: {1} \\n Probality of 10 is: {2} \\n Probality of 11 is: {3}'.format(p[0], p[1], p[2], p[3]))\n",
        "    prob.append(p)"
      ],
      "execution_count": 10,
      "outputs": [
        {
          "output_type": "stream",
          "text": [
            "--------------------------------\n",
            "\n",
            "For 1 shots\n",
            "\n",
            "The cost for 1 measurement sampling is 1.5\n",
            "\n",
            "The parameters are [ 2.78082809 -0.60420726]\n",
            "\n",
            "The cost for 1 measurement sampling is 0.5\n",
            "\n",
            "The parameters are [ 1.88082809 -2.40420726]\n",
            "\n",
            "The cost for 1 measurement sampling is 0.5\n",
            "\n",
            "The parameters are [ 2.78082809 -3.00420726]\n",
            "\n",
            "The cost for 1 measurement sampling is 0.5\n",
            "\n",
            "The parameters are [ 1.58082809 -3.30420726]\n",
            "\n",
            "Final probability of states is as follows: \n",
            "\n",
            "\n",
            " Probality of 00 is: 1.0 \n",
            " Probality of 01 is: 0.0 \n",
            " Probality of 10 is: 0.0 \n",
            " Probality of 11 is: 0.0\n",
            "--------------------------------\n",
            "\n",
            "For 10 shots\n",
            "\n",
            "The cost for 10 measurement sampling is 1.08\n",
            "\n",
            "The parameters are [-1.26250999  0.17508919]\n",
            "\n",
            "The cost for 10 measurement sampling is 0.30000000000000004\n",
            "\n",
            "The parameters are [-1.85050999 -1.90091081]\n",
            "\n",
            "The cost for 10 measurement sampling is 0.01999999999999999\n",
            "\n",
            "The parameters are [-1.44850999 -2.56691081]\n",
            "\n",
            "The cost for 10 measurement sampling is 0.019999999999999997\n",
            "\n",
            "The parameters are [-1.52050999 -2.74691081]\n",
            "\n",
            "Final probability of states is as follows: \n",
            "\n",
            "\n",
            " Probality of 00 is: 0.0 \n",
            " Probality of 01 is: 0.7 \n",
            " Probality of 10 is: 0.2 \n",
            " Probality of 11 is: 0.1\n",
            "--------------------------------\n",
            "\n",
            "For 100 shots\n",
            "\n",
            "The cost for 100 measurement sampling is 0.5289999999999999\n",
            "\n",
            "The parameters are [-1.37803462 -1.03384073]\n",
            "\n",
            "The cost for 100 measurement sampling is 0.03519999999999999\n",
            "\n",
            "The parameters are [-1.43863462 -2.57008073]\n",
            "\n",
            "The cost for 100 measurement sampling is 0.0016000000000000014\n",
            "\n",
            "The parameters are [-1.51231462 -2.81374073]\n",
            "\n",
            "The cost for 100 measurement sampling is 0.002199999999999999\n",
            "\n",
            "The parameters are [-1.51693462 -2.89912073]\n",
            "\n",
            "Final probability of states is as follows: \n",
            "\n",
            "\n",
            " Probality of 00 is: 0.05 \n",
            " Probality of 01 is: 0.45 \n",
            " Probality of 10 is: 0.48 \n",
            " Probality of 11 is: 0.02\n",
            "--------------------------------\n",
            "\n",
            "For 1000 shots\n",
            "\n",
            "The cost for 1000 measurement sampling is 0.6019859999999999\n",
            "\n",
            "The parameters are [0.68143389 1.23044382]\n",
            "\n",
            "The cost for 1000 measurement sampling is 0.008825999999999999\n",
            "\n",
            "The parameters are [1.56757869 2.56750902]\n",
            "\n",
            "The cost for 1000 measurement sampling is 0.0059039999999999995\n",
            "\n",
            "The parameters are [1.53724029 2.78339502]\n",
            "\n",
            "The cost for 1000 measurement sampling is 0.00651\n",
            "\n",
            "The parameters are [1.56658569 2.88016422]\n",
            "\n",
            "Final probability of states is as follows: \n",
            "\n",
            "\n",
            " Probality of 00 is: 0.04 \n",
            " Probality of 01 is: 0.437 \n",
            " Probality of 10 is: 0.511 \n",
            " Probality of 11 is: 0.012\n"
          ],
          "name": "stdout"
        }
      ]
    },
    {
      "cell_type": "code",
      "metadata": {
        "id": "vGFDeTWFUgaq",
        "colab_type": "code",
        "colab": {
          "base_uri": "https://localhost:8080/",
          "height": 34
        },
        "outputId": "dc157adf-15e2-48c8-9bae-52668091dc27"
      },
      "source": [
        "print('The final parameters are {0} for with noisy simulations.'.format(parameters))"
      ],
      "execution_count": 11,
      "outputs": [
        {
          "output_type": "stream",
          "text": [
            "The final parameters are [1.57123089 2.93360862] for with noisy simulations.\n"
          ],
          "name": "stdout"
        }
      ]
    },
    {
      "cell_type": "markdown",
      "metadata": {
        "id": "2tmqQmwYZwHd",
        "colab_type": "text"
      },
      "source": [
        "Visualization"
      ]
    },
    {
      "cell_type": "code",
      "metadata": {
        "id": "FxaMmui-UytX",
        "colab_type": "code",
        "colab": {
          "base_uri": "https://localhost:8080/",
          "height": 282
        },
        "outputId": "52951fc8-85cb-4eef-ccc9-75b5822ce4c8"
      },
      "source": [
        "plt.bar(['00','01','10', '11'], prob[0]) #Probability Distribution for shots 1"
      ],
      "execution_count": 12,
      "outputs": [
        {
          "output_type": "execute_result",
          "data": {
            "text/plain": [
              "<BarContainer object of 4 artists>"
            ]
          },
          "metadata": {
            "tags": []
          },
          "execution_count": 12
        },
        {
          "output_type": "display_data",
          "data": {
            "image/png": "[encoded data removed]",
            "text/plain": [
              "<Figure size 432x288 with 1 Axes>"
            ]
          },
          "metadata": {
            "tags": [],
            "needs_background": "light"
          }
        }
      ]
    },
    {
      "cell_type": "code",
      "metadata": {
        "id": "rZFxXr4fU7Lj",
        "colab_type": "code",
        "colab": {
          "base_uri": "https://localhost:8080/",
          "height": 282
        },
        "outputId": "2724d236-2716-4b14-de86-e56984a7900a"
      },
      "source": [
        "plt.bar(['00','01','10', '11'], prob[1]) #Probability Distribution for shots 1"
      ],
      "execution_count": 13,
      "outputs": [
        {
          "output_type": "execute_result",
          "data": {
            "text/plain": [
              "<BarContainer object of 4 artists>"
            ]
          },
          "metadata": {
            "tags": []
          },
          "execution_count": 13
        },
        {
          "output_type": "display_data",
          "data": {
            "image/png": "[encoded data removed]",
            "text/plain": [
              "<Figure size 432x288 with 1 Axes>"
            ]
          },
          "metadata": {
            "tags": [],
            "needs_background": "light"
          }
        }
      ]
    },
    {
      "cell_type": "code",
      "metadata": {
        "id": "JpjUgj_LU9Rt",
        "colab_type": "code",
        "colab": {
          "base_uri": "https://localhost:8080/",
          "height": 285
        },
        "outputId": "080da546-1bab-42dc-8ed8-a157e5a61f75"
      },
      "source": [
        "plt.bar(['00','01','10', '11'], prob[2]) #Probability Distribution for shots 1"
      ],
      "execution_count": 14,
      "outputs": [
        {
          "output_type": "execute_result",
          "data": {
            "text/plain": [
              "<BarContainer object of 4 artists>"
            ]
          },
          "metadata": {
            "tags": []
          },
          "execution_count": 14
        },
        {
          "output_type": "display_data",
          "data": {
            "image/png": "[encoded data removed]",
            "text/plain": [
              "<Figure size 432x288 with 1 Axes>"
            ]
          },
          "metadata": {
            "tags": [],
            "needs_background": "light"
          }
        }
      ]
    },
    {
      "cell_type": "code",
      "metadata": {
        "id": "o7LJ1TYIVBab",
        "colab_type": "code",
        "colab": {
          "base_uri": "https://localhost:8080/",
          "height": 282
        },
        "outputId": "5b8409d8-d73a-466a-de0d-1b76b15d65e9"
      },
      "source": [
        "plt.bar(['00','01','10', '11'], prob[3]) #Probability Distribution for shots 1"
      ],
      "execution_count": 15,
      "outputs": [
        {
          "output_type": "execute_result",
          "data": {
            "text/plain": [
              "<BarContainer object of 4 artists>"
            ]
          },
          "metadata": {
            "tags": []
          },
          "execution_count": 15
        },
        {
          "output_type": "display_data",
          "data": {
            "image/png": "[encoded data removed]",
            "text/plain": [
              "<Figure size 432x288 with 1 Axes>"
            ]
          },
          "metadata": {
            "tags": [],
            "needs_background": "light"
          }
        }
      ]
    },
    {
      "cell_type": "markdown",
      "metadata": {
        "id": "hV-zuM0SZ1Xc",
        "colab_type": "text"
      },
      "source": [
        "As we can see from above graphs, the error reduces as we increase the number of shots. For 100 and 1000 shots, we almost got desired probabilities in noisy model."
      ]
    },
    {
      "cell_type": "markdown",
      "metadata": {
        "id": "kUorvwkJaIeW",
        "colab_type": "text"
      },
      "source": [
        "Cost Evaluation"
      ]
    },
    {
      "cell_type": "code",
      "metadata": {
        "id": "4xALDJ2zVDMC",
        "colab_type": "code",
        "colab": {
          "base_uri": "https://localhost:8080/",
          "height": 265
        },
        "outputId": "557bb7d3-011c-4059-ab44-b444e63a6127"
      },
      "source": [
        "plt.plot(all_costs[0], label =\"00\")\n",
        "plt.plot(all_costs[1], label =\"01\")\n",
        "plt.plot(all_costs[2], label =\"10\")\n",
        "plt.plot(all_costs[3], label =\"11\")\n",
        "plt.ylabel('Cost evolution')\n",
        "plt.legend()\n",
        "plt.show()"
      ],
      "execution_count": 16,
      "outputs": [
        {
          "output_type": "display_data",
          "data": {
            "image/png": "[encoded data removed]",
            "text/plain": [
              "<Figure size 432x288 with 1 Axes>"
            ]
          },
          "metadata": {
            "tags": [],
            "needs_background": "light"
          }
        }
      ]
    },
    {
      "cell_type": "markdown",
      "metadata": {
        "id": "FZGmduRuaL4x",
        "colab_type": "text"
      },
      "source": [
        "Optimization using noise-less simulation. Same parameters are used as in the case of noisy simulations."
      ]
    },
    {
      "cell_type": "code",
      "metadata": {
        "id": "71c8vy7QVKBK",
        "colab_type": "code",
        "colab": {
          "base_uri": "https://localhost:8080/",
          "height": 1000
        },
        "outputId": "64b34521-c093-476d-dbc4-a033339041c9"
      },
      "source": [
        "prob = []\n",
        "all_costs = []\n",
        "\n",
        "for num_shots in [1000, 100, 10, 1]:\n",
        "    dev_noiseless.shots = num_shots\n",
        "    initial_parameters = np.random.randn(2) #starting with random parameters\n",
        "    \n",
        "    steps = 40 # Number of steps of optimization\n",
        "    \n",
        "    parameters = initial_parameters.copy()\n",
        "    \n",
        "    optimizer = qml.GradientDescentOptimizer(stepsize=0.6) #The Gradient Descent Optimizer\n",
        "    \n",
        "    costs = []\n",
        "    \n",
        "    print('--------------------------------\\n')\n",
        "    print('For {0} shots\\n'.format(num_shots))\n",
        "    for i in range(steps):\n",
        "        costs.append(cost_noiseless(parameters))\n",
        "        parameters = optimizer.step(cost_noiseless, parameters)\n",
        "        \n",
        "        if (i%10 == 0):\n",
        "            print('The cost for {0} measurement sampling is {1}\\n'.format(num_shots, cost(parameters)))\n",
        "            print('The parameters are {0}\\n'.format(parameters))\n",
        "    all_costs.append(costs)\n",
        "\n",
        "    p = [0, 0, 0, 0]\n",
        "    p[0], p[1], p[2], p[3] = state_noiseless(parameters)\n",
        "    print('Final probability of states is as follows: \\n')\n",
        "    print('\\n Probality of 00 is: {0} \\n Probality of 01 is: {1} \\n Probality of 10 is: {2} \\n Probality of 11 is: {3}'.format(p[0], p[1], p[2], p[3]))\n",
        "    prob.append(p)"
      ],
      "execution_count": 20,
      "outputs": [
        {
          "output_type": "stream",
          "text": [
            "--------------------------------\n",
            "\n",
            "For 1000 shots\n",
            "\n",
            "The cost for 1000 measurement sampling is 0.607574\n",
            "\n",
            "The parameters are [ 1.69000041 -0.87372749]\n",
            "\n",
            "The cost for 1000 measurement sampling is 0.011785999999999998\n",
            "\n",
            "The parameters are [ 1.59942321 -2.54600609]\n",
            "\n",
            "The cost for 1000 measurement sampling is 0.005332\n",
            "\n",
            "The parameters are [ 1.56228441 -2.73033629]\n",
            "\n",
            "The cost for 1000 measurement sampling is 0.004113999999999998\n",
            "\n",
            "The parameters are [ 1.52711181 -2.80828529]\n",
            "\n",
            "Final probability of states is as follows: \n",
            "\n",
            "\n",
            " Probality of 00 is: 0.008 \n",
            " Probality of 01 is: 0.507 \n",
            " Probality of 10 is: 0.476 \n",
            " Probality of 11 is: 0.009\n",
            "--------------------------------\n",
            "\n",
            "For 100 shots\n",
            "\n",
            "The cost for 100 measurement sampling is 0.744408\n",
            "\n",
            "The parameters are [ 1.71298452 -0.65020348]\n",
            "\n",
            "The cost for 100 measurement sampling is 0.024026000000000006\n",
            "\n",
            "The parameters are [ 1.67998452 -2.48380348]\n",
            "\n",
            "The cost for 100 measurement sampling is 0.007309999999999997\n",
            "\n",
            "The parameters are [ 1.54558452 -2.70334348]\n",
            "\n",
            "The cost for 100 measurement sampling is 0.008070000000000003\n",
            "\n",
            "The parameters are [ 1.70110452 -2.79940348]\n",
            "\n",
            "Final probability of states is as follows: \n",
            "\n",
            "\n",
            " Probality of 00 is: 0.02 \n",
            " Probality of 01 is: 0.49 \n",
            " Probality of 10 is: 0.49 \n",
            " Probality of 11 is: 0.0\n",
            "--------------------------------\n",
            "\n",
            "For 10 shots\n",
            "\n",
            "The cost for 10 measurement sampling is 0.326056\n",
            "\n",
            "The parameters are [-2.71789727  1.94499019]\n",
            "\n",
            "The cost for 10 measurement sampling is 0.04446199999999999\n",
            "\n",
            "The parameters are [-1.82389727  2.74299019]\n",
            "\n",
            "The cost for 10 measurement sampling is 0.011794000000000008\n",
            "\n",
            "The parameters are [-1.67989727  2.88099019]\n",
            "\n",
            "The cost for 10 measurement sampling is 0.018343999999999992\n",
            "\n",
            "The parameters are [-1.71589727  2.92299019]\n",
            "\n",
            "Final probability of states is as follows: \n",
            "\n",
            "\n",
            " Probality of 00 is: 0.0 \n",
            " Probality of 01 is: 0.2 \n",
            " Probality of 10 is: 0.8 \n",
            " Probality of 11 is: 0.0\n",
            "--------------------------------\n",
            "\n",
            "For 1 shots\n",
            "\n",
            "The cost for 1 measurement sampling is 1.045278\n",
            "\n",
            "The parameters are [1.01655315 0.28382291]\n",
            "\n",
            "The cost for 1 measurement sampling is 0.551426\n",
            "\n",
            "The parameters are [1.01655315 1.18382291]\n",
            "\n",
            "The cost for 1 measurement sampling is 0.30832200000000004\n",
            "\n",
            "The parameters are [5.81655315 4.18382291]\n",
            "\n",
            "The cost for 1 measurement sampling is 0.079016\n",
            "\n",
            "The parameters are [4.61655315 2.08382291]\n",
            "\n",
            "Final probability of states is as follows: \n",
            "\n",
            "\n",
            " Probality of 00 is: 0.0 \n",
            " Probality of 01 is: 0.0 \n",
            " Probality of 10 is: 1.0 \n",
            " Probality of 11 is: 0.0\n"
          ],
          "name": "stdout"
        }
      ]
    },
    {
      "cell_type": "code",
      "metadata": {
        "id": "nSDTjFbVVXLr",
        "colab_type": "code",
        "colab": {
          "base_uri": "https://localhost:8080/",
          "height": 34
        },
        "outputId": "50dd3510-6c91-4564-d5b6-99f45529b9a5"
      },
      "source": [
        "print('The final parameters as {0} for with simulations.'.format(parameters))"
      ],
      "execution_count": 19,
      "outputs": [
        {
          "output_type": "stream",
          "text": [
            "The final parameters as [-1.57508434  2.8123664 ] for with simulations.\n"
          ],
          "name": "stdout"
        }
      ]
    },
    {
      "cell_type": "markdown",
      "metadata": {
        "id": "BhAa7lY1aY1b",
        "colab_type": "text"
      },
      "source": [
        "Visualization"
      ]
    },
    {
      "cell_type": "code",
      "metadata": {
        "id": "OLLy6j69VSRv",
        "colab_type": "code",
        "colab": {
          "base_uri": "https://localhost:8080/",
          "height": 282
        },
        "outputId": "aa5b3649-96d5-41ca-932c-31a5fe60673a"
      },
      "source": [
        "plt.bar(['00','01','10', '11'], prob[0])   #Probability Distribution for shots 1000"
      ],
      "execution_count": 18,
      "outputs": [
        {
          "output_type": "execute_result",
          "data": {
            "text/plain": [
              "<BarContainer object of 4 artists>"
            ]
          },
          "metadata": {
            "tags": []
          },
          "execution_count": 18
        },
        {
          "output_type": "display_data",
          "data": {
            "image/png": "[encoded data removed]",
            "text/plain": [
              "<Figure size 432x288 with 1 Axes>"
            ]
          },
          "metadata": {
            "tags": [],
            "needs_background": "light"
          }
        }
      ]
    },
    {
      "cell_type": "code",
      "metadata": {
        "id": "7optX0CPVarT",
        "colab_type": "code",
        "colab": {
          "base_uri": "https://localhost:8080/",
          "height": 282
        },
        "outputId": "e3fa07f3-a697-407f-85ce-318d675de433"
      },
      "source": [
        "plt.bar(['00','01','10', '11'], prob[1])   #Probability Distribution for shots 100"
      ],
      "execution_count": 21,
      "outputs": [
        {
          "output_type": "execute_result",
          "data": {
            "text/plain": [
              "<BarContainer object of 4 artists>"
            ]
          },
          "metadata": {
            "tags": []
          },
          "execution_count": 21
        },
        {
          "output_type": "display_data",
          "data": {
            "image/png": "[encoded data removed]",
            "text/plain": [
              "<Figure size 432x288 with 1 Axes>"
            ]
          },
          "metadata": {
            "tags": [],
            "needs_background": "light"
          }
        }
      ]
    },
    {
      "cell_type": "code",
      "metadata": {
        "id": "aMkOD-HsVwh9",
        "colab_type": "code",
        "colab": {
          "base_uri": "https://localhost:8080/",
          "height": 282
        },
        "outputId": "e14ecbfd-9fe9-4ecc-bdb5-477cc0a04c9c"
      },
      "source": [
        "plt.bar(['00','01','10', '11'], prob[2])   #Probability Distribution for shots 10"
      ],
      "execution_count": 22,
      "outputs": [
        {
          "output_type": "execute_result",
          "data": {
            "text/plain": [
              "<BarContainer object of 4 artists>"
            ]
          },
          "metadata": {
            "tags": []
          },
          "execution_count": 22
        },
        {
          "output_type": "display_data",
          "data": {
            "image/png": "[encoded data removed]",
            "text/plain": [
              "<Figure size 432x288 with 1 Axes>"
            ]
          },
          "metadata": {
            "tags": [],
            "needs_background": "light"
          }
        }
      ]
    },
    {
      "cell_type": "code",
      "metadata": {
        "id": "1pWIvL2hVy5t",
        "colab_type": "code",
        "colab": {
          "base_uri": "https://localhost:8080/",
          "height": 282
        },
        "outputId": "16f30e8e-59cf-4b19-d1dd-7637faaadb02"
      },
      "source": [
        "plt.bar(['00','01','10', '11'], prob[3])   #Probability Distribution for shots 1"
      ],
      "execution_count": 23,
      "outputs": [
        {
          "output_type": "execute_result",
          "data": {
            "text/plain": [
              "<BarContainer object of 4 artists>"
            ]
          },
          "metadata": {
            "tags": []
          },
          "execution_count": 23
        },
        {
          "output_type": "display_data",
          "data": {
            "image/png": "[encoded data removed]",
            "text/plain": [
              "<Figure size 432x288 with 1 Axes>"
            ]
          },
          "metadata": {
            "tags": [],
            "needs_background": "light"
          }
        }
      ]
    },
    {
      "cell_type": "markdown",
      "metadata": {
        "id": "aiAk023JaiPl",
        "colab_type": "text"
      },
      "source": [
        "The same trend can be seen in this case too, as the number of shots increasing, accuracy is also increasing."
      ]
    },
    {
      "cell_type": "code",
      "metadata": {
        "id": "58WzOzprav54",
        "colab_type": "code",
        "colab": {}
      },
      "source": [
        ""
      ],
      "execution_count": null,
      "outputs": []
    }
  ]
}